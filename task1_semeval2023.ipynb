{
  "cells": [
    {
      "attachments": {},
      "cell_type": "markdown",
      "id": "7628432b",
      "metadata": {},
      "source": [
        "# [SemEval 2023 Task 1](https://raganato.github.io/vwsd/)\n",
        "\n",
        "[By Abdullah Alshadadi (Srking501)](https://github.com/Srking501)"
      ]
    },
    {
      "cell_type": "code",
      "execution_count": 1,
      "metadata": {},
      "outputs": [
        {
          "name": "stderr",
          "output_type": "stream",
          "text": [
            "2023-03-13 23:40:59.284304: I tensorflow/core/platform/cpu_feature_guard.cc:193] This TensorFlow binary is optimized with oneAPI Deep Neural Network Library (oneDNN) to use the following CPU instructions in performance-critical operations:  AVX2 FMA\n",
            "To enable them in other operations, rebuild TensorFlow with the appropriate compiler flags.\n",
            "2023-03-13 23:41:00.170968: W tensorflow/compiler/xla/stream_executor/platform/default/dso_loader.cc:64] Could not load dynamic library 'libnvinfer.so.7'; dlerror: libnvinfer.so.7: cannot open shared object file: No such file or directory\n",
            "2023-03-13 23:41:00.171017: W tensorflow/compiler/xla/stream_executor/platform/default/dso_loader.cc:64] Could not load dynamic library 'libnvinfer_plugin.so.7'; dlerror: libnvinfer_plugin.so.7: cannot open shared object file: No such file or directory\n",
            "2023-03-13 23:41:00.171021: W tensorflow/compiler/tf2tensorrt/utils/py_utils.cc:38] TF-TRT Warning: Cannot dlopen some TensorRT libraries. If you would like to use Nvidia GPU with TensorRT, please make sure the missing libraries mentioned above are installed properly.\n"
          ]
        }
      ],
      "source": [
        "import matplotlib.pyplot as plt\n",
        "import tensorflow as tf\n",
        "import pandas as pd\n",
        "import numpy as np\n",
        "import cv2\n",
        "import keras\n",
        "import random\n",
        "import os"
      ]
    },
    {
      "cell_type": "code",
      "execution_count": 2,
      "id": "189967aa",
      "metadata": {},
      "outputs": [],
      "source": [
        "# Load the TensorBoard notebook extension\n",
        "%load_ext tensorboard"
      ]
    },
    {
      "cell_type": "code",
      "execution_count": 3,
      "id": "c9945c50",
      "metadata": {},
      "outputs": [],
      "source": [
        "# to access google drive folder\n",
        "# from google.colab import drive\n",
        "# drive.mount('/content/drive') # When you run this you'll be prompted for a token - follow the link to generate this.\n",
        "# #        \"/content/drive/MyDrive/...path/to/dir\n",
        "# path = \"/content/drive/MyDrive/semeval-2023/task-1/\"\n",
        "# path = \"/content/drive/MyDrive/data/\"\n",
        "\n",
        "# Comment this out if you are using Google Colab, otherwise just change to local directory where the data is located\n",
        "path = \"./data/\""
      ]
    },
    {
      "cell_type": "code",
      "execution_count": 4,
      "id": "6cbda6ac",
      "metadata": {},
      "outputs": [
        {
          "data": {
            "text/plain": [
              "'/home/srking501/Desktop/Projects/semeval-2023-task1'"
            ]
          },
          "execution_count": 4,
          "metadata": {},
          "output_type": "execute_result"
        }
      ],
      "source": [
        "os.getcwd()"
      ]
    },
    {
      "attachments": {},
      "cell_type": "markdown",
      "id": "41358c9d",
      "metadata": {},
      "source": [
        "❗❗❗Retrieve the data from [SemEval-2023 Task-1 page](https://raganato.github.io/vwsd/), specifically the [\"[TRAIN+TRIAL]\" data](https://drive.google.com/file/d/1byX4wpe1UjyCVyYrT04sW17NnycKAK7N/view), and put it into `data/` directory❗❗❗"
      ]
    },
    {
      "cell_type": "code",
      "execution_count": 5,
      "id": "a69f9e46",
      "metadata": {},
      "outputs": [
        {
          "name": "stdout",
          "output_type": "stream",
          "text": [
            "[Data already unzipped]\n"
          ]
        }
      ],
      "source": [
        "from zipfile import ZipFile\n",
        "\n",
        "try:\n",
        "    if os.path.isdir(path + \"semeval-2023-task-1-V-WSD-train-v1\") == False:\n",
        "        with ZipFile(path + \"semeval-2023-task-1-V-WSD-train-v1.zip\", \"r\") as zip:\n",
        "            print(\"Unzipping data...\")\n",
        "            zip.extractall(\"data/\")\n",
        "            print(\"Finished.\")\n",
        "    else:\n",
        "        print(\"[Data already unzipped]\")\n",
        "except FileNotFoundError:\n",
        "    print(f\"The file semeval-2023-task-1-V-WSD-train-v1.zip is not found in path:\\n\"\n",
        "          f\"{path}\\n\")\n",
        "    print(f\"The contents of {path}:\\n\"\n",
        "          f\"{os.listdir(path)}\")"
      ]
    },
    {
      "attachments": {},
      "cell_type": "markdown",
      "id": "b426d440",
      "metadata": {},
      "source": [
        "To check if we are in the right directory"
      ]
    },
    {
      "cell_type": "code",
      "execution_count": 6,
      "id": "8c001267",
      "metadata": {},
      "outputs": [
        {
          "data": {
            "text/plain": [
              "['semeval-2023-task-1-V-WSD-train-v1',\n",
              " 'captions_train_clean_complete.csv',\n",
              " 'README.md',\n",
              " 'wordnet(individual tokens).csv',\n",
              " 'senses.txt']"
            ]
          },
          "execution_count": 6,
          "metadata": {},
          "output_type": "execute_result"
        }
      ],
      "source": [
        "os.listdir(path)"
      ]
    },
    {
      "attachments": {},
      "cell_type": "markdown",
      "id": "c71d11be",
      "metadata": {},
      "source": [
        "Using `train_v1/` data"
      ]
    },
    {
      "cell_type": "code",
      "execution_count": 7,
      "id": "dbd6ef20",
      "metadata": {},
      "outputs": [],
      "source": [
        "path_to_data = path + \"semeval-2023-task-1-V-WSD-train-v1/\"\n",
        "data_labels = pd.read_csv(path_to_data + \"train_v1/train.data.v1.txt\", \n",
        "                sep = \"\\t\", \n",
        "                names = [\"target_word\", \"full_phrase\"] + \n",
        "                [\"image_%d\"%index for index in range(10)])"
      ]
    },
    {
      "cell_type": "code",
      "execution_count": 8,
      "id": "8413dcb7",
      "metadata": {},
      "outputs": [
        {
          "data": {
            "text/html": [
              "<div>\n",
              "<style scoped>\n",
              "    .dataframe tbody tr th:only-of-type {\n",
              "        vertical-align: middle;\n",
              "    }\n",
              "\n",
              "    .dataframe tbody tr th {\n",
              "        vertical-align: top;\n",
              "    }\n",
              "\n",
              "    .dataframe thead th {\n",
              "        text-align: right;\n",
              "    }\n",
              "</style>\n",
              "<table border=\"1\" class=\"dataframe\">\n",
              "  <thead>\n",
              "    <tr style=\"text-align: right;\">\n",
              "      <th></th>\n",
              "      <th>target_word</th>\n",
              "      <th>full_phrase</th>\n",
              "      <th>image_0</th>\n",
              "      <th>image_1</th>\n",
              "      <th>image_2</th>\n",
              "      <th>image_3</th>\n",
              "      <th>image_4</th>\n",
              "      <th>image_5</th>\n",
              "      <th>image_6</th>\n",
              "      <th>image_7</th>\n",
              "      <th>image_8</th>\n",
              "      <th>image_9</th>\n",
              "    </tr>\n",
              "  </thead>\n",
              "  <tbody>\n",
              "    <tr>\n",
              "      <th>0</th>\n",
              "      <td>moorhen</td>\n",
              "      <td>moorhen swamphen</td>\n",
              "      <td>image.3.jpg</td>\n",
              "      <td>image.8.jpg</td>\n",
              "      <td>image.4.jpg</td>\n",
              "      <td>image.1.jpg</td>\n",
              "      <td>image.2.jpg</td>\n",
              "      <td>image.0.jpg</td>\n",
              "      <td>image.5.jpg</td>\n",
              "      <td>image.6.jpg</td>\n",
              "      <td>image.7.jpg</td>\n",
              "      <td>image.9.jpg</td>\n",
              "    </tr>\n",
              "    <tr>\n",
              "      <th>1</th>\n",
              "      <td>serinus</td>\n",
              "      <td>serinus genus</td>\n",
              "      <td>image.3.jpg</td>\n",
              "      <td>image.23.jpg</td>\n",
              "      <td>image.4.jpg</td>\n",
              "      <td>image.1.jpg</td>\n",
              "      <td>image.2.jpg</td>\n",
              "      <td>image.20.jpg</td>\n",
              "      <td>image.5.jpg</td>\n",
              "      <td>image.24.jpg</td>\n",
              "      <td>image.22.jpg</td>\n",
              "      <td>image.21.jpg</td>\n",
              "    </tr>\n",
              "    <tr>\n",
              "      <th>2</th>\n",
              "      <td>pegmatite</td>\n",
              "      <td>pegmatite igneous</td>\n",
              "      <td>image.41.jpg</td>\n",
              "      <td>image.39.jpg</td>\n",
              "      <td>image.42.jpg</td>\n",
              "      <td>image.43.jpg</td>\n",
              "      <td>image.40.jpg</td>\n",
              "      <td>image.44.jpg</td>\n",
              "      <td>image.37.jpg</td>\n",
              "      <td>image.38.jpg</td>\n",
              "      <td>image.36.jpg</td>\n",
              "      <td>image.35.jpg</td>\n",
              "    </tr>\n",
              "    <tr>\n",
              "      <th>3</th>\n",
              "      <td>bangalores</td>\n",
              "      <td>bangalores torpedo</td>\n",
              "      <td>image.58.jpg</td>\n",
              "      <td>image.59.jpg</td>\n",
              "      <td>image.64.jpg</td>\n",
              "      <td>image.57.jpg</td>\n",
              "      <td>image.55.jpg</td>\n",
              "      <td>image.56.jpg</td>\n",
              "      <td>image.62.jpg</td>\n",
              "      <td>image.63.jpg</td>\n",
              "      <td>image.61.jpg</td>\n",
              "      <td>image.60.jpg</td>\n",
              "    </tr>\n",
              "    <tr>\n",
              "      <th>4</th>\n",
              "      <td>bonxie</td>\n",
              "      <td>bonxie skua</td>\n",
              "      <td>image.3.jpg</td>\n",
              "      <td>image.77.jpg</td>\n",
              "      <td>image.78.jpg</td>\n",
              "      <td>image.4.jpg</td>\n",
              "      <td>image.1.jpg</td>\n",
              "      <td>image.2.jpg</td>\n",
              "      <td>image.5.jpg</td>\n",
              "      <td>image.79.jpg</td>\n",
              "      <td>image.76.jpg</td>\n",
              "      <td>image.75.jpg</td>\n",
              "    </tr>\n",
              "  </tbody>\n",
              "</table>\n",
              "</div>"
            ],
            "text/plain": [
              "  target_word         full_phrase       image_0       image_1       image_2  \\\n",
              "0     moorhen    moorhen swamphen   image.3.jpg   image.8.jpg   image.4.jpg   \n",
              "1     serinus       serinus genus   image.3.jpg  image.23.jpg   image.4.jpg   \n",
              "2   pegmatite   pegmatite igneous  image.41.jpg  image.39.jpg  image.42.jpg   \n",
              "3  bangalores  bangalores torpedo  image.58.jpg  image.59.jpg  image.64.jpg   \n",
              "4      bonxie         bonxie skua   image.3.jpg  image.77.jpg  image.78.jpg   \n",
              "\n",
              "        image_3       image_4       image_5       image_6       image_7  \\\n",
              "0   image.1.jpg   image.2.jpg   image.0.jpg   image.5.jpg   image.6.jpg   \n",
              "1   image.1.jpg   image.2.jpg  image.20.jpg   image.5.jpg  image.24.jpg   \n",
              "2  image.43.jpg  image.40.jpg  image.44.jpg  image.37.jpg  image.38.jpg   \n",
              "3  image.57.jpg  image.55.jpg  image.56.jpg  image.62.jpg  image.63.jpg   \n",
              "4   image.4.jpg   image.1.jpg   image.2.jpg   image.5.jpg  image.79.jpg   \n",
              "\n",
              "        image_8       image_9  \n",
              "0   image.7.jpg   image.9.jpg  \n",
              "1  image.22.jpg  image.21.jpg  \n",
              "2  image.36.jpg  image.35.jpg  \n",
              "3  image.61.jpg  image.60.jpg  \n",
              "4  image.76.jpg  image.75.jpg  "
            ]
          },
          "execution_count": 8,
          "metadata": {},
          "output_type": "execute_result"
        }
      ],
      "source": [
        "data_labels.head()"
      ]
    },
    {
      "cell_type": "code",
      "execution_count": 9,
      "id": "6a08dbce",
      "metadata": {},
      "outputs": [],
      "source": [
        "gold_labels = pd.read_csv(path_to_data + \"train_v1/train.gold.v1.txt\", \n",
        "                    names = [\"gold_images\"])"
      ]
    },
    {
      "cell_type": "code",
      "execution_count": 10,
      "id": "c468a123",
      "metadata": {},
      "outputs": [
        {
          "data": {
            "text/html": [
              "<div>\n",
              "<style scoped>\n",
              "    .dataframe tbody tr th:only-of-type {\n",
              "        vertical-align: middle;\n",
              "    }\n",
              "\n",
              "    .dataframe tbody tr th {\n",
              "        vertical-align: top;\n",
              "    }\n",
              "\n",
              "    .dataframe thead th {\n",
              "        text-align: right;\n",
              "    }\n",
              "</style>\n",
              "<table border=\"1\" class=\"dataframe\">\n",
              "  <thead>\n",
              "    <tr style=\"text-align: right;\">\n",
              "      <th></th>\n",
              "      <th>gold_images</th>\n",
              "    </tr>\n",
              "  </thead>\n",
              "  <tbody>\n",
              "    <tr>\n",
              "      <th>0</th>\n",
              "      <td>image.0.jpg</td>\n",
              "    </tr>\n",
              "    <tr>\n",
              "      <th>1</th>\n",
              "      <td>image.20.jpg</td>\n",
              "    </tr>\n",
              "    <tr>\n",
              "      <th>2</th>\n",
              "      <td>image.35.jpg</td>\n",
              "    </tr>\n",
              "    <tr>\n",
              "      <th>3</th>\n",
              "      <td>image.55.jpg</td>\n",
              "    </tr>\n",
              "    <tr>\n",
              "      <th>4</th>\n",
              "      <td>image.75.jpg</td>\n",
              "    </tr>\n",
              "  </tbody>\n",
              "</table>\n",
              "</div>"
            ],
            "text/plain": [
              "    gold_images\n",
              "0   image.0.jpg\n",
              "1  image.20.jpg\n",
              "2  image.35.jpg\n",
              "3  image.55.jpg\n",
              "4  image.75.jpg"
            ]
          },
          "execution_count": 10,
          "metadata": {},
          "output_type": "execute_result"
        }
      ],
      "source": [
        "gold_labels.head()"
      ]
    },
    {
      "attachments": {},
      "cell_type": "markdown",
      "id": "19764c2c",
      "metadata": {},
      "source": [
        "Image Caption Data and WordNet senses"
      ]
    },
    {
      "cell_type": "code",
      "execution_count": 11,
      "id": "1931fd43",
      "metadata": {},
      "outputs": [],
      "source": [
        "caption_data_labels = pd.read_csv(path + \"captions_train_clean_complete.csv\")\n",
        "wordnet_senses_labels = pd.read_csv(path + \"wordnet(individual tokens).csv\")"
      ]
    },
    {
      "cell_type": "code",
      "execution_count": 12,
      "id": "1abd655d",
      "metadata": {},
      "outputs": [
        {
          "data": {
            "text/html": [
              "<div>\n",
              "<style scoped>\n",
              "    .dataframe tbody tr th:only-of-type {\n",
              "        vertical-align: middle;\n",
              "    }\n",
              "\n",
              "    .dataframe tbody tr th {\n",
              "        vertical-align: top;\n",
              "    }\n",
              "\n",
              "    .dataframe thead th {\n",
              "        text-align: right;\n",
              "    }\n",
              "</style>\n",
              "<table border=\"1\" class=\"dataframe\">\n",
              "  <thead>\n",
              "    <tr style=\"text-align: right;\">\n",
              "      <th></th>\n",
              "      <th>File Name</th>\n",
              "      <th>Generated Caption</th>\n",
              "    </tr>\n",
              "  </thead>\n",
              "  <tbody>\n",
              "    <tr>\n",
              "      <th>0</th>\n",
              "      <td>image.0.jpg</td>\n",
              "      <td>a black and white bird is standing in the air</td>\n",
              "    </tr>\n",
              "    <tr>\n",
              "      <th>1</th>\n",
              "      <td>image.1.jpg</td>\n",
              "      <td>a man with a red hat is standing in front of a...</td>\n",
              "    </tr>\n",
              "    <tr>\n",
              "      <th>2</th>\n",
              "      <td>image.10.jpg</td>\n",
              "      <td>a man is standing in a large white and white a...</td>\n",
              "    </tr>\n",
              "    <tr>\n",
              "      <th>3</th>\n",
              "      <td>image.100.jpg</td>\n",
              "      <td>a man and a woman are playing with a toy</td>\n",
              "    </tr>\n",
              "    <tr>\n",
              "      <th>4</th>\n",
              "      <td>image.1000.jpg</td>\n",
              "      <td>a person is riding a dirt path in a wooded area</td>\n",
              "    </tr>\n",
              "  </tbody>\n",
              "</table>\n",
              "</div>"
            ],
            "text/plain": [
              "        File Name                                  Generated Caption\n",
              "0     image.0.jpg      a black and white bird is standing in the air\n",
              "1     image.1.jpg  a man with a red hat is standing in front of a...\n",
              "2    image.10.jpg  a man is standing in a large white and white a...\n",
              "3   image.100.jpg           a man and a woman are playing with a toy\n",
              "4  image.1000.jpg    a person is riding a dirt path in a wooded area"
            ]
          },
          "execution_count": 12,
          "metadata": {},
          "output_type": "execute_result"
        }
      ],
      "source": [
        "caption_data_labels.head()"
      ]
    },
    {
      "cell_type": "code",
      "execution_count": 13,
      "id": "b751834b",
      "metadata": {},
      "outputs": [
        {
          "data": {
            "text/html": [
              "<div>\n",
              "<style scoped>\n",
              "    .dataframe tbody tr th:only-of-type {\n",
              "        vertical-align: middle;\n",
              "    }\n",
              "\n",
              "    .dataframe tbody tr th {\n",
              "        vertical-align: top;\n",
              "    }\n",
              "\n",
              "    .dataframe thead th {\n",
              "        text-align: right;\n",
              "    }\n",
              "</style>\n",
              "<table border=\"1\" class=\"dataframe\">\n",
              "  <thead>\n",
              "    <tr style=\"text-align: right;\">\n",
              "      <th></th>\n",
              "      <th>Complex_word</th>\n",
              "      <th>senses</th>\n",
              "    </tr>\n",
              "  </thead>\n",
              "  <tbody>\n",
              "    <tr>\n",
              "      <th>0</th>\n",
              "      <td>moorhen swamphen</td>\n",
              "      <td>black gallinule that inhabits ponds and lakes ...</td>\n",
              "    </tr>\n",
              "    <tr>\n",
              "      <th>1</th>\n",
              "      <td>serinus genus</td>\n",
              "      <td>Old World finches; e.g. canaries and serins or...</td>\n",
              "    </tr>\n",
              "    <tr>\n",
              "      <th>2</th>\n",
              "      <td>pegmatite igneous</td>\n",
              "      <td>produced under conditions involving intense he...</td>\n",
              "    </tr>\n",
              "    <tr>\n",
              "      <th>3</th>\n",
              "      <td>bangalore torpedo</td>\n",
              "      <td>an industrial city in south central India (wes...</td>\n",
              "    </tr>\n",
              "    <tr>\n",
              "      <th>4</th>\n",
              "      <td>bonxie skua</td>\n",
              "      <td>gull-like jaeger of northern seas or gull-like...</td>\n",
              "    </tr>\n",
              "  </tbody>\n",
              "</table>\n",
              "</div>"
            ],
            "text/plain": [
              "        Complex_word                                             senses\n",
              "0   moorhen swamphen  black gallinule that inhabits ponds and lakes ...\n",
              "1      serinus genus  Old World finches; e.g. canaries and serins or...\n",
              "2  pegmatite igneous  produced under conditions involving intense he...\n",
              "3  bangalore torpedo  an industrial city in south central India (wes...\n",
              "4        bonxie skua  gull-like jaeger of northern seas or gull-like..."
            ]
          },
          "execution_count": 13,
          "metadata": {},
          "output_type": "execute_result"
        }
      ],
      "source": [
        "wordnet_senses_labels.head()"
      ]
    },
    {
      "attachments": {},
      "cell_type": "markdown",
      "id": "7fa11a7b",
      "metadata": {},
      "source": [
        "## Creating the main `dataset`"
      ]
    },
    {
      "cell_type": "code",
      "execution_count": 14,
      "id": "22887baf",
      "metadata": {},
      "outputs": [],
      "source": [
        "dataset = data_labels.join(gold_labels)"
      ]
    },
    {
      "cell_type": "code",
      "execution_count": 15,
      "id": "d7834333",
      "metadata": {},
      "outputs": [
        {
          "data": {
            "text/html": [
              "<div>\n",
              "<style scoped>\n",
              "    .dataframe tbody tr th:only-of-type {\n",
              "        vertical-align: middle;\n",
              "    }\n",
              "\n",
              "    .dataframe tbody tr th {\n",
              "        vertical-align: top;\n",
              "    }\n",
              "\n",
              "    .dataframe thead th {\n",
              "        text-align: right;\n",
              "    }\n",
              "</style>\n",
              "<table border=\"1\" class=\"dataframe\">\n",
              "  <thead>\n",
              "    <tr style=\"text-align: right;\">\n",
              "      <th></th>\n",
              "      <th>target_word</th>\n",
              "      <th>full_phrase</th>\n",
              "      <th>image_0</th>\n",
              "      <th>image_1</th>\n",
              "      <th>image_2</th>\n",
              "      <th>image_3</th>\n",
              "      <th>image_4</th>\n",
              "      <th>image_5</th>\n",
              "      <th>image_6</th>\n",
              "      <th>image_7</th>\n",
              "      <th>image_8</th>\n",
              "      <th>image_9</th>\n",
              "      <th>gold_images</th>\n",
              "    </tr>\n",
              "  </thead>\n",
              "  <tbody>\n",
              "    <tr>\n",
              "      <th>0</th>\n",
              "      <td>moorhen</td>\n",
              "      <td>moorhen swamphen</td>\n",
              "      <td>image.3.jpg</td>\n",
              "      <td>image.8.jpg</td>\n",
              "      <td>image.4.jpg</td>\n",
              "      <td>image.1.jpg</td>\n",
              "      <td>image.2.jpg</td>\n",
              "      <td>image.0.jpg</td>\n",
              "      <td>image.5.jpg</td>\n",
              "      <td>image.6.jpg</td>\n",
              "      <td>image.7.jpg</td>\n",
              "      <td>image.9.jpg</td>\n",
              "      <td>image.0.jpg</td>\n",
              "    </tr>\n",
              "    <tr>\n",
              "      <th>1</th>\n",
              "      <td>serinus</td>\n",
              "      <td>serinus genus</td>\n",
              "      <td>image.3.jpg</td>\n",
              "      <td>image.23.jpg</td>\n",
              "      <td>image.4.jpg</td>\n",
              "      <td>image.1.jpg</td>\n",
              "      <td>image.2.jpg</td>\n",
              "      <td>image.20.jpg</td>\n",
              "      <td>image.5.jpg</td>\n",
              "      <td>image.24.jpg</td>\n",
              "      <td>image.22.jpg</td>\n",
              "      <td>image.21.jpg</td>\n",
              "      <td>image.20.jpg</td>\n",
              "    </tr>\n",
              "    <tr>\n",
              "      <th>2</th>\n",
              "      <td>pegmatite</td>\n",
              "      <td>pegmatite igneous</td>\n",
              "      <td>image.41.jpg</td>\n",
              "      <td>image.39.jpg</td>\n",
              "      <td>image.42.jpg</td>\n",
              "      <td>image.43.jpg</td>\n",
              "      <td>image.40.jpg</td>\n",
              "      <td>image.44.jpg</td>\n",
              "      <td>image.37.jpg</td>\n",
              "      <td>image.38.jpg</td>\n",
              "      <td>image.36.jpg</td>\n",
              "      <td>image.35.jpg</td>\n",
              "      <td>image.35.jpg</td>\n",
              "    </tr>\n",
              "    <tr>\n",
              "      <th>3</th>\n",
              "      <td>bangalores</td>\n",
              "      <td>bangalores torpedo</td>\n",
              "      <td>image.58.jpg</td>\n",
              "      <td>image.59.jpg</td>\n",
              "      <td>image.64.jpg</td>\n",
              "      <td>image.57.jpg</td>\n",
              "      <td>image.55.jpg</td>\n",
              "      <td>image.56.jpg</td>\n",
              "      <td>image.62.jpg</td>\n",
              "      <td>image.63.jpg</td>\n",
              "      <td>image.61.jpg</td>\n",
              "      <td>image.60.jpg</td>\n",
              "      <td>image.55.jpg</td>\n",
              "    </tr>\n",
              "    <tr>\n",
              "      <th>4</th>\n",
              "      <td>bonxie</td>\n",
              "      <td>bonxie skua</td>\n",
              "      <td>image.3.jpg</td>\n",
              "      <td>image.77.jpg</td>\n",
              "      <td>image.78.jpg</td>\n",
              "      <td>image.4.jpg</td>\n",
              "      <td>image.1.jpg</td>\n",
              "      <td>image.2.jpg</td>\n",
              "      <td>image.5.jpg</td>\n",
              "      <td>image.79.jpg</td>\n",
              "      <td>image.76.jpg</td>\n",
              "      <td>image.75.jpg</td>\n",
              "      <td>image.75.jpg</td>\n",
              "    </tr>\n",
              "  </tbody>\n",
              "</table>\n",
              "</div>"
            ],
            "text/plain": [
              "  target_word         full_phrase       image_0       image_1       image_2  \\\n",
              "0     moorhen    moorhen swamphen   image.3.jpg   image.8.jpg   image.4.jpg   \n",
              "1     serinus       serinus genus   image.3.jpg  image.23.jpg   image.4.jpg   \n",
              "2   pegmatite   pegmatite igneous  image.41.jpg  image.39.jpg  image.42.jpg   \n",
              "3  bangalores  bangalores torpedo  image.58.jpg  image.59.jpg  image.64.jpg   \n",
              "4      bonxie         bonxie skua   image.3.jpg  image.77.jpg  image.78.jpg   \n",
              "\n",
              "        image_3       image_4       image_5       image_6       image_7  \\\n",
              "0   image.1.jpg   image.2.jpg   image.0.jpg   image.5.jpg   image.6.jpg   \n",
              "1   image.1.jpg   image.2.jpg  image.20.jpg   image.5.jpg  image.24.jpg   \n",
              "2  image.43.jpg  image.40.jpg  image.44.jpg  image.37.jpg  image.38.jpg   \n",
              "3  image.57.jpg  image.55.jpg  image.56.jpg  image.62.jpg  image.63.jpg   \n",
              "4   image.4.jpg   image.1.jpg   image.2.jpg   image.5.jpg  image.79.jpg   \n",
              "\n",
              "        image_8       image_9   gold_images  \n",
              "0   image.7.jpg   image.9.jpg   image.0.jpg  \n",
              "1  image.22.jpg  image.21.jpg  image.20.jpg  \n",
              "2  image.36.jpg  image.35.jpg  image.35.jpg  \n",
              "3  image.61.jpg  image.60.jpg  image.55.jpg  \n",
              "4  image.76.jpg  image.75.jpg  image.75.jpg  "
            ]
          },
          "execution_count": 15,
          "metadata": {},
          "output_type": "execute_result"
        }
      ],
      "source": [
        "dataset.head()"
      ]
    },
    {
      "attachments": {},
      "cell_type": "markdown",
      "id": "3dd2f653",
      "metadata": {},
      "source": [
        "The only important dataframes are `caption_data_labels_renamed` and the newly merged `wordnet_senses_labels_renamed` into the main `dataset` dataframe"
      ]
    },
    {
      "cell_type": "code",
      "execution_count": 16,
      "id": "a0e28b6a",
      "metadata": {},
      "outputs": [],
      "source": [
        "# renaming columns to match the `data_labels` dataframe and \n",
        "# to fit one standard format \n",
        "# (following the python naming convention - \n",
        "# https://peps.python.org/pep-0008/#naming-conventions)\n",
        "#\n",
        "caption_data_labels_renamed = caption_data_labels.rename(columns={\n",
        "    \"File Name\": \"images\",\n",
        "    \"Generated Caption\": \"generated_caption\"\n",
        "    })\n",
        "wordnet_senses_labels_renamed = wordnet_senses_labels.rename(columns={\n",
        "    \"Complex_word\": \"full_phrase\"\n",
        "})"
      ]
    },
    {
      "cell_type": "code",
      "execution_count": 17,
      "id": "0039ce74",
      "metadata": {},
      "outputs": [
        {
          "data": {
            "text/html": [
              "<div>\n",
              "<style scoped>\n",
              "    .dataframe tbody tr th:only-of-type {\n",
              "        vertical-align: middle;\n",
              "    }\n",
              "\n",
              "    .dataframe tbody tr th {\n",
              "        vertical-align: top;\n",
              "    }\n",
              "\n",
              "    .dataframe thead th {\n",
              "        text-align: right;\n",
              "    }\n",
              "</style>\n",
              "<table border=\"1\" class=\"dataframe\">\n",
              "  <thead>\n",
              "    <tr style=\"text-align: right;\">\n",
              "      <th></th>\n",
              "      <th>images</th>\n",
              "      <th>generated_caption</th>\n",
              "    </tr>\n",
              "  </thead>\n",
              "  <tbody>\n",
              "    <tr>\n",
              "      <th>0</th>\n",
              "      <td>image.0.jpg</td>\n",
              "      <td>a black and white bird is standing in the air</td>\n",
              "    </tr>\n",
              "    <tr>\n",
              "      <th>1</th>\n",
              "      <td>image.1.jpg</td>\n",
              "      <td>a man with a red hat is standing in front of a...</td>\n",
              "    </tr>\n",
              "    <tr>\n",
              "      <th>2</th>\n",
              "      <td>image.10.jpg</td>\n",
              "      <td>a man is standing in a large white and white a...</td>\n",
              "    </tr>\n",
              "    <tr>\n",
              "      <th>3</th>\n",
              "      <td>image.100.jpg</td>\n",
              "      <td>a man and a woman are playing with a toy</td>\n",
              "    </tr>\n",
              "    <tr>\n",
              "      <th>4</th>\n",
              "      <td>image.1000.jpg</td>\n",
              "      <td>a person is riding a dirt path in a wooded area</td>\n",
              "    </tr>\n",
              "  </tbody>\n",
              "</table>\n",
              "</div>"
            ],
            "text/plain": [
              "           images                                  generated_caption\n",
              "0     image.0.jpg      a black and white bird is standing in the air\n",
              "1     image.1.jpg  a man with a red hat is standing in front of a...\n",
              "2    image.10.jpg  a man is standing in a large white and white a...\n",
              "3   image.100.jpg           a man and a woman are playing with a toy\n",
              "4  image.1000.jpg    a person is riding a dirt path in a wooded area"
            ]
          },
          "execution_count": 17,
          "metadata": {},
          "output_type": "execute_result"
        }
      ],
      "source": [
        "caption_data_labels_renamed.head()"
      ]
    },
    {
      "cell_type": "code",
      "execution_count": 18,
      "id": "2b172f5b",
      "metadata": {},
      "outputs": [
        {
          "data": {
            "text/html": [
              "<div>\n",
              "<style scoped>\n",
              "    .dataframe tbody tr th:only-of-type {\n",
              "        vertical-align: middle;\n",
              "    }\n",
              "\n",
              "    .dataframe tbody tr th {\n",
              "        vertical-align: top;\n",
              "    }\n",
              "\n",
              "    .dataframe thead th {\n",
              "        text-align: right;\n",
              "    }\n",
              "</style>\n",
              "<table border=\"1\" class=\"dataframe\">\n",
              "  <thead>\n",
              "    <tr style=\"text-align: right;\">\n",
              "      <th></th>\n",
              "      <th>full_phrase</th>\n",
              "      <th>senses</th>\n",
              "    </tr>\n",
              "  </thead>\n",
              "  <tbody>\n",
              "    <tr>\n",
              "      <th>0</th>\n",
              "      <td>moorhen swamphen</td>\n",
              "      <td>black gallinule that inhabits ponds and lakes ...</td>\n",
              "    </tr>\n",
              "    <tr>\n",
              "      <th>1</th>\n",
              "      <td>serinus genus</td>\n",
              "      <td>Old World finches; e.g. canaries and serins or...</td>\n",
              "    </tr>\n",
              "    <tr>\n",
              "      <th>2</th>\n",
              "      <td>pegmatite igneous</td>\n",
              "      <td>produced under conditions involving intense he...</td>\n",
              "    </tr>\n",
              "    <tr>\n",
              "      <th>3</th>\n",
              "      <td>bangalore torpedo</td>\n",
              "      <td>an industrial city in south central India (wes...</td>\n",
              "    </tr>\n",
              "    <tr>\n",
              "      <th>4</th>\n",
              "      <td>bonxie skua</td>\n",
              "      <td>gull-like jaeger of northern seas or gull-like...</td>\n",
              "    </tr>\n",
              "  </tbody>\n",
              "</table>\n",
              "</div>"
            ],
            "text/plain": [
              "         full_phrase                                             senses\n",
              "0   moorhen swamphen  black gallinule that inhabits ponds and lakes ...\n",
              "1      serinus genus  Old World finches; e.g. canaries and serins or...\n",
              "2  pegmatite igneous  produced under conditions involving intense he...\n",
              "3  bangalore torpedo  an industrial city in south central India (wes...\n",
              "4        bonxie skua  gull-like jaeger of northern seas or gull-like..."
            ]
          },
          "execution_count": 18,
          "metadata": {},
          "output_type": "execute_result"
        }
      ],
      "source": [
        "wordnet_senses_labels_renamed.head()"
      ]
    },
    {
      "cell_type": "code",
      "execution_count": 19,
      "id": "10bca0bf",
      "metadata": {},
      "outputs": [],
      "source": [
        "dataset = dataset.merge(wordnet_senses_labels_renamed, how=\"inner\", on=\"full_phrase\")"
      ]
    },
    {
      "cell_type": "code",
      "execution_count": 20,
      "id": "b6a20125",
      "metadata": {},
      "outputs": [
        {
          "data": {
            "text/html": [
              "<div>\n",
              "<style scoped>\n",
              "    .dataframe tbody tr th:only-of-type {\n",
              "        vertical-align: middle;\n",
              "    }\n",
              "\n",
              "    .dataframe tbody tr th {\n",
              "        vertical-align: top;\n",
              "    }\n",
              "\n",
              "    .dataframe thead th {\n",
              "        text-align: right;\n",
              "    }\n",
              "</style>\n",
              "<table border=\"1\" class=\"dataframe\">\n",
              "  <thead>\n",
              "    <tr style=\"text-align: right;\">\n",
              "      <th></th>\n",
              "      <th>target_word</th>\n",
              "      <th>full_phrase</th>\n",
              "      <th>image_0</th>\n",
              "      <th>image_1</th>\n",
              "      <th>image_2</th>\n",
              "      <th>image_3</th>\n",
              "      <th>image_4</th>\n",
              "      <th>image_5</th>\n",
              "      <th>image_6</th>\n",
              "      <th>image_7</th>\n",
              "      <th>image_8</th>\n",
              "      <th>image_9</th>\n",
              "      <th>gold_images</th>\n",
              "      <th>senses</th>\n",
              "    </tr>\n",
              "  </thead>\n",
              "  <tbody>\n",
              "    <tr>\n",
              "      <th>0</th>\n",
              "      <td>moorhen</td>\n",
              "      <td>moorhen swamphen</td>\n",
              "      <td>image.3.jpg</td>\n",
              "      <td>image.8.jpg</td>\n",
              "      <td>image.4.jpg</td>\n",
              "      <td>image.1.jpg</td>\n",
              "      <td>image.2.jpg</td>\n",
              "      <td>image.0.jpg</td>\n",
              "      <td>image.5.jpg</td>\n",
              "      <td>image.6.jpg</td>\n",
              "      <td>image.7.jpg</td>\n",
              "      <td>image.9.jpg</td>\n",
              "      <td>image.0.jpg</td>\n",
              "      <td>black gallinule that inhabits ponds and lakes ...</td>\n",
              "    </tr>\n",
              "    <tr>\n",
              "      <th>1</th>\n",
              "      <td>serinus</td>\n",
              "      <td>serinus genus</td>\n",
              "      <td>image.3.jpg</td>\n",
              "      <td>image.23.jpg</td>\n",
              "      <td>image.4.jpg</td>\n",
              "      <td>image.1.jpg</td>\n",
              "      <td>image.2.jpg</td>\n",
              "      <td>image.20.jpg</td>\n",
              "      <td>image.5.jpg</td>\n",
              "      <td>image.24.jpg</td>\n",
              "      <td>image.22.jpg</td>\n",
              "      <td>image.21.jpg</td>\n",
              "      <td>image.20.jpg</td>\n",
              "      <td>Old World finches; e.g. canaries and serins or...</td>\n",
              "    </tr>\n",
              "    <tr>\n",
              "      <th>2</th>\n",
              "      <td>pegmatite</td>\n",
              "      <td>pegmatite igneous</td>\n",
              "      <td>image.41.jpg</td>\n",
              "      <td>image.39.jpg</td>\n",
              "      <td>image.42.jpg</td>\n",
              "      <td>image.43.jpg</td>\n",
              "      <td>image.40.jpg</td>\n",
              "      <td>image.44.jpg</td>\n",
              "      <td>image.37.jpg</td>\n",
              "      <td>image.38.jpg</td>\n",
              "      <td>image.36.jpg</td>\n",
              "      <td>image.35.jpg</td>\n",
              "      <td>image.35.jpg</td>\n",
              "      <td>produced under conditions involving intense he...</td>\n",
              "    </tr>\n",
              "    <tr>\n",
              "      <th>3</th>\n",
              "      <td>bonxie</td>\n",
              "      <td>bonxie skua</td>\n",
              "      <td>image.3.jpg</td>\n",
              "      <td>image.77.jpg</td>\n",
              "      <td>image.78.jpg</td>\n",
              "      <td>image.4.jpg</td>\n",
              "      <td>image.1.jpg</td>\n",
              "      <td>image.2.jpg</td>\n",
              "      <td>image.5.jpg</td>\n",
              "      <td>image.79.jpg</td>\n",
              "      <td>image.76.jpg</td>\n",
              "      <td>image.75.jpg</td>\n",
              "      <td>image.75.jpg</td>\n",
              "      <td>gull-like jaeger of northern seas or gull-like...</td>\n",
              "    </tr>\n",
              "    <tr>\n",
              "      <th>4</th>\n",
              "      <td>ixia</td>\n",
              "      <td>ixia genus</td>\n",
              "      <td>image.90.jpg</td>\n",
              "      <td>image.3.jpg</td>\n",
              "      <td>image.91.jpg</td>\n",
              "      <td>image.4.jpg</td>\n",
              "      <td>image.92.jpg</td>\n",
              "      <td>image.1.jpg</td>\n",
              "      <td>image.2.jpg</td>\n",
              "      <td>image.94.jpg</td>\n",
              "      <td>image.93.jpg</td>\n",
              "      <td>image.5.jpg</td>\n",
              "      <td>image.90.jpg</td>\n",
              "      <td>a monocotyledonous genus of the family Iridace...</td>\n",
              "    </tr>\n",
              "  </tbody>\n",
              "</table>\n",
              "</div>"
            ],
            "text/plain": [
              "  target_word        full_phrase       image_0       image_1       image_2  \\\n",
              "0     moorhen   moorhen swamphen   image.3.jpg   image.8.jpg   image.4.jpg   \n",
              "1     serinus      serinus genus   image.3.jpg  image.23.jpg   image.4.jpg   \n",
              "2   pegmatite  pegmatite igneous  image.41.jpg  image.39.jpg  image.42.jpg   \n",
              "3      bonxie        bonxie skua   image.3.jpg  image.77.jpg  image.78.jpg   \n",
              "4        ixia         ixia genus  image.90.jpg   image.3.jpg  image.91.jpg   \n",
              "\n",
              "        image_3       image_4       image_5       image_6       image_7  \\\n",
              "0   image.1.jpg   image.2.jpg   image.0.jpg   image.5.jpg   image.6.jpg   \n",
              "1   image.1.jpg   image.2.jpg  image.20.jpg   image.5.jpg  image.24.jpg   \n",
              "2  image.43.jpg  image.40.jpg  image.44.jpg  image.37.jpg  image.38.jpg   \n",
              "3   image.4.jpg   image.1.jpg   image.2.jpg   image.5.jpg  image.79.jpg   \n",
              "4   image.4.jpg  image.92.jpg   image.1.jpg   image.2.jpg  image.94.jpg   \n",
              "\n",
              "        image_8       image_9   gold_images  \\\n",
              "0   image.7.jpg   image.9.jpg   image.0.jpg   \n",
              "1  image.22.jpg  image.21.jpg  image.20.jpg   \n",
              "2  image.36.jpg  image.35.jpg  image.35.jpg   \n",
              "3  image.76.jpg  image.75.jpg  image.75.jpg   \n",
              "4  image.93.jpg   image.5.jpg  image.90.jpg   \n",
              "\n",
              "                                              senses  \n",
              "0  black gallinule that inhabits ponds and lakes ...  \n",
              "1  Old World finches; e.g. canaries and serins or...  \n",
              "2  produced under conditions involving intense he...  \n",
              "3  gull-like jaeger of northern seas or gull-like...  \n",
              "4  a monocotyledonous genus of the family Iridace...  "
            ]
          },
          "execution_count": 20,
          "metadata": {},
          "output_type": "execute_result"
        }
      ],
      "source": [
        "dataset.head()"
      ]
    },
    {
      "attachments": {},
      "cell_type": "markdown",
      "id": "dc38d9ae",
      "metadata": {},
      "source": [
        "Remove any missing data from the generated `senses`"
      ]
    },
    {
      "cell_type": "code",
      "execution_count": 21,
      "id": "fa394f50",
      "metadata": {},
      "outputs": [],
      "source": [
        "for missing_data in np.where(dataset.isnull()):\n",
        "    dataset = dataset.drop(missing_data)"
      ]
    },
    {
      "cell_type": "code",
      "execution_count": 22,
      "id": "eb360595",
      "metadata": {},
      "outputs": [
        {
          "data": {
            "text/plain": [
              "(array([], dtype=int64), array([], dtype=int64))"
            ]
          },
          "execution_count": 22,
          "metadata": {},
          "output_type": "execute_result"
        }
      ],
      "source": [
        "# Check if the missing data are dropped (numpy array should appear empty)\n",
        "np.where(dataset.isnull())"
      ]
    },
    {
      "cell_type": "code",
      "execution_count": 23,
      "id": "1be928fd",
      "metadata": {},
      "outputs": [
        {
          "data": {
            "text/html": [
              "<div>\n",
              "<style scoped>\n",
              "    .dataframe tbody tr th:only-of-type {\n",
              "        vertical-align: middle;\n",
              "    }\n",
              "\n",
              "    .dataframe tbody tr th {\n",
              "        vertical-align: top;\n",
              "    }\n",
              "\n",
              "    .dataframe thead th {\n",
              "        text-align: right;\n",
              "    }\n",
              "</style>\n",
              "<table border=\"1\" class=\"dataframe\">\n",
              "  <thead>\n",
              "    <tr style=\"text-align: right;\">\n",
              "      <th></th>\n",
              "      <th>target_word</th>\n",
              "      <th>full_phrase</th>\n",
              "      <th>image_0</th>\n",
              "      <th>image_1</th>\n",
              "      <th>image_2</th>\n",
              "      <th>image_3</th>\n",
              "      <th>image_4</th>\n",
              "      <th>image_5</th>\n",
              "      <th>image_6</th>\n",
              "      <th>image_7</th>\n",
              "      <th>image_8</th>\n",
              "      <th>image_9</th>\n",
              "      <th>gold_images</th>\n",
              "      <th>senses</th>\n",
              "    </tr>\n",
              "  </thead>\n",
              "  <tbody>\n",
              "    <tr>\n",
              "      <th>0</th>\n",
              "      <td>moorhen</td>\n",
              "      <td>moorhen swamphen</td>\n",
              "      <td>image.3.jpg</td>\n",
              "      <td>image.8.jpg</td>\n",
              "      <td>image.4.jpg</td>\n",
              "      <td>image.1.jpg</td>\n",
              "      <td>image.2.jpg</td>\n",
              "      <td>image.0.jpg</td>\n",
              "      <td>image.5.jpg</td>\n",
              "      <td>image.6.jpg</td>\n",
              "      <td>image.7.jpg</td>\n",
              "      <td>image.9.jpg</td>\n",
              "      <td>image.0.jpg</td>\n",
              "      <td>black gallinule that inhabits ponds and lakes ...</td>\n",
              "    </tr>\n",
              "    <tr>\n",
              "      <th>1</th>\n",
              "      <td>serinus</td>\n",
              "      <td>serinus genus</td>\n",
              "      <td>image.3.jpg</td>\n",
              "      <td>image.23.jpg</td>\n",
              "      <td>image.4.jpg</td>\n",
              "      <td>image.1.jpg</td>\n",
              "      <td>image.2.jpg</td>\n",
              "      <td>image.20.jpg</td>\n",
              "      <td>image.5.jpg</td>\n",
              "      <td>image.24.jpg</td>\n",
              "      <td>image.22.jpg</td>\n",
              "      <td>image.21.jpg</td>\n",
              "      <td>image.20.jpg</td>\n",
              "      <td>Old World finches; e.g. canaries and serins or...</td>\n",
              "    </tr>\n",
              "    <tr>\n",
              "      <th>2</th>\n",
              "      <td>pegmatite</td>\n",
              "      <td>pegmatite igneous</td>\n",
              "      <td>image.41.jpg</td>\n",
              "      <td>image.39.jpg</td>\n",
              "      <td>image.42.jpg</td>\n",
              "      <td>image.43.jpg</td>\n",
              "      <td>image.40.jpg</td>\n",
              "      <td>image.44.jpg</td>\n",
              "      <td>image.37.jpg</td>\n",
              "      <td>image.38.jpg</td>\n",
              "      <td>image.36.jpg</td>\n",
              "      <td>image.35.jpg</td>\n",
              "      <td>image.35.jpg</td>\n",
              "      <td>produced under conditions involving intense he...</td>\n",
              "    </tr>\n",
              "    <tr>\n",
              "      <th>3</th>\n",
              "      <td>bonxie</td>\n",
              "      <td>bonxie skua</td>\n",
              "      <td>image.3.jpg</td>\n",
              "      <td>image.77.jpg</td>\n",
              "      <td>image.78.jpg</td>\n",
              "      <td>image.4.jpg</td>\n",
              "      <td>image.1.jpg</td>\n",
              "      <td>image.2.jpg</td>\n",
              "      <td>image.5.jpg</td>\n",
              "      <td>image.79.jpg</td>\n",
              "      <td>image.76.jpg</td>\n",
              "      <td>image.75.jpg</td>\n",
              "      <td>image.75.jpg</td>\n",
              "      <td>gull-like jaeger of northern seas or gull-like...</td>\n",
              "    </tr>\n",
              "    <tr>\n",
              "      <th>4</th>\n",
              "      <td>ixia</td>\n",
              "      <td>ixia genus</td>\n",
              "      <td>image.90.jpg</td>\n",
              "      <td>image.3.jpg</td>\n",
              "      <td>image.91.jpg</td>\n",
              "      <td>image.4.jpg</td>\n",
              "      <td>image.92.jpg</td>\n",
              "      <td>image.1.jpg</td>\n",
              "      <td>image.2.jpg</td>\n",
              "      <td>image.94.jpg</td>\n",
              "      <td>image.93.jpg</td>\n",
              "      <td>image.5.jpg</td>\n",
              "      <td>image.90.jpg</td>\n",
              "      <td>a monocotyledonous genus of the family Iridace...</td>\n",
              "    </tr>\n",
              "  </tbody>\n",
              "</table>\n",
              "</div>"
            ],
            "text/plain": [
              "  target_word        full_phrase       image_0       image_1       image_2  \\\n",
              "0     moorhen   moorhen swamphen   image.3.jpg   image.8.jpg   image.4.jpg   \n",
              "1     serinus      serinus genus   image.3.jpg  image.23.jpg   image.4.jpg   \n",
              "2   pegmatite  pegmatite igneous  image.41.jpg  image.39.jpg  image.42.jpg   \n",
              "3      bonxie        bonxie skua   image.3.jpg  image.77.jpg  image.78.jpg   \n",
              "4        ixia         ixia genus  image.90.jpg   image.3.jpg  image.91.jpg   \n",
              "\n",
              "        image_3       image_4       image_5       image_6       image_7  \\\n",
              "0   image.1.jpg   image.2.jpg   image.0.jpg   image.5.jpg   image.6.jpg   \n",
              "1   image.1.jpg   image.2.jpg  image.20.jpg   image.5.jpg  image.24.jpg   \n",
              "2  image.43.jpg  image.40.jpg  image.44.jpg  image.37.jpg  image.38.jpg   \n",
              "3   image.4.jpg   image.1.jpg   image.2.jpg   image.5.jpg  image.79.jpg   \n",
              "4   image.4.jpg  image.92.jpg   image.1.jpg   image.2.jpg  image.94.jpg   \n",
              "\n",
              "        image_8       image_9   gold_images  \\\n",
              "0   image.7.jpg   image.9.jpg   image.0.jpg   \n",
              "1  image.22.jpg  image.21.jpg  image.20.jpg   \n",
              "2  image.36.jpg  image.35.jpg  image.35.jpg   \n",
              "3  image.76.jpg  image.75.jpg  image.75.jpg   \n",
              "4  image.93.jpg   image.5.jpg  image.90.jpg   \n",
              "\n",
              "                                              senses  \n",
              "0  black gallinule that inhabits ponds and lakes ...  \n",
              "1  Old World finches; e.g. canaries and serins or...  \n",
              "2  produced under conditions involving intense he...  \n",
              "3  gull-like jaeger of northern seas or gull-like...  \n",
              "4  a monocotyledonous genus of the family Iridace...  "
            ]
          },
          "execution_count": 23,
          "metadata": {},
          "output_type": "execute_result"
        }
      ],
      "source": [
        "dataset.head()"
      ]
    },
    {
      "attachments": {},
      "cell_type": "markdown",
      "id": "c2781180",
      "metadata": {},
      "source": [
        "# Word2Vec model\n",
        "\n",
        "Reference (https://www.tensorflow.org/tutorials/text/word2vec)"
      ]
    },
    {
      "cell_type": "code",
      "execution_count": 24,
      "id": "1714557c",
      "metadata": {},
      "outputs": [],
      "source": [
        "import io\n",
        "import re\n",
        "import string\n",
        "import tqdm\n",
        "\n",
        "from tensorflow.keras import layers"
      ]
    },
    {
      "cell_type": "code",
      "execution_count": 25,
      "id": "702ef47b",
      "metadata": {},
      "outputs": [],
      "source": [
        "SEED = 42\n",
        "AUTOTUNE = tf.data.AUTOTUNE"
      ]
    },
    {
      "cell_type": "code",
      "execution_count": 26,
      "id": "c4857343",
      "metadata": {},
      "outputs": [],
      "source": [
        "# Define the vocabulary size and the number of words in a sequence.\n",
        "VOCAB_SIZE = 4096\n",
        "SEQUENCE_LENGTH = 10"
      ]
    },
    {
      "cell_type": "code",
      "execution_count": 27,
      "id": "5397de55",
      "metadata": {},
      "outputs": [],
      "source": [
        "# Generates skip-gram pairs with negative sampling for a list of sequences\n",
        "# (int-encoded sentences) based on window size, number of negative samples\n",
        "# and vocabulary size.\n",
        "def generate_training_data(sequences, window_size, num_ns, vocab_size, seed):\n",
        "  # Elements of each training example are appended to these lists.\n",
        "  targets, contexts, labels = [], [], []\n",
        "\n",
        "  # Build the sampling table for `vocab_size` tokens.\n",
        "  sampling_table = tf.keras.preprocessing.sequence.make_sampling_table(vocab_size)\n",
        "\n",
        "  # Iterate over all sequences (sentences) in the dataset.\n",
        "  for sequence in tqdm.tqdm(sequences):\n",
        "\n",
        "    # Generate positive skip-gram pairs for a sequence (sentence).\n",
        "    positive_skip_grams, _ = tf.keras.preprocessing.sequence.skipgrams(\n",
        "          sequence,\n",
        "          vocabulary_size=vocab_size,\n",
        "          sampling_table=sampling_table,\n",
        "          window_size=window_size,\n",
        "          negative_samples=0)\n",
        "\n",
        "    # Iterate over each positive skip-gram pair to produce training examples\n",
        "    # with a positive context word and negative samples.\n",
        "    for target_word, context_word in positive_skip_grams:\n",
        "      context_class = tf.expand_dims(\n",
        "          tf.constant([context_word], dtype=\"int64\"), 1)\n",
        "      negative_sampling_candidates, _, _ = tf.random.log_uniform_candidate_sampler(\n",
        "          true_classes=context_class,\n",
        "          num_true=1,\n",
        "          num_sampled=num_ns,\n",
        "          unique=True,\n",
        "          range_max=vocab_size,\n",
        "          seed=seed,\n",
        "          name=\"negative_sampling\")\n",
        "\n",
        "      # Build context and label vectors (for one target word)\n",
        "      context = tf.concat([tf.squeeze(context_class,1), negative_sampling_candidates], 0)\n",
        "      label = tf.constant([1] + [0]*num_ns, dtype=\"int64\")\n",
        "\n",
        "      # Append each element from the training example to global lists.\n",
        "      targets.append(target_word)\n",
        "      contexts.append(context)\n",
        "      labels.append(label)\n",
        "\n",
        "  return targets, contexts, labels"
      ]
    },
    {
      "cell_type": "code",
      "execution_count": 28,
      "id": "eded2c53",
      "metadata": {},
      "outputs": [],
      "source": [
        "# Now, create a custom standardization function to lowercase the text and\n",
        "# remove punctuation.\n",
        "def custom_standardization(input_data):\n",
        "  lowercase = tf.strings.lower(input_data)\n",
        "  return tf.strings.regex_replace(lowercase,\n",
        "                                  '[%s]' % re.escape(string.punctuation), '')"
      ]
    },
    {
      "cell_type": "code",
      "execution_count": 29,
      "id": "b824dd15",
      "metadata": {},
      "outputs": [
        {
          "name": "stderr",
          "output_type": "stream",
          "text": [
            "2023-03-13 23:41:03.428963: I tensorflow/compiler/xla/stream_executor/cuda/cuda_gpu_executor.cc:981] successful NUMA node read from SysFS had negative value (-1), but there must be at least one NUMA node, so returning NUMA node zero\n",
            "2023-03-13 23:41:03.485587: I tensorflow/compiler/xla/stream_executor/cuda/cuda_gpu_executor.cc:981] successful NUMA node read from SysFS had negative value (-1), but there must be at least one NUMA node, so returning NUMA node zero\n",
            "2023-03-13 23:41:03.485762: I tensorflow/compiler/xla/stream_executor/cuda/cuda_gpu_executor.cc:981] successful NUMA node read from SysFS had negative value (-1), but there must be at least one NUMA node, so returning NUMA node zero\n",
            "2023-03-13 23:41:03.486397: I tensorflow/core/platform/cpu_feature_guard.cc:193] This TensorFlow binary is optimized with oneAPI Deep Neural Network Library (oneDNN) to use the following CPU instructions in performance-critical operations:  AVX2 FMA\n",
            "To enable them in other operations, rebuild TensorFlow with the appropriate compiler flags.\n",
            "2023-03-13 23:41:03.487134: I tensorflow/compiler/xla/stream_executor/cuda/cuda_gpu_executor.cc:981] successful NUMA node read from SysFS had negative value (-1), but there must be at least one NUMA node, so returning NUMA node zero\n",
            "2023-03-13 23:41:03.487272: I tensorflow/compiler/xla/stream_executor/cuda/cuda_gpu_executor.cc:981] successful NUMA node read from SysFS had negative value (-1), but there must be at least one NUMA node, so returning NUMA node zero\n",
            "2023-03-13 23:41:03.487393: I tensorflow/compiler/xla/stream_executor/cuda/cuda_gpu_executor.cc:981] successful NUMA node read from SysFS had negative value (-1), but there must be at least one NUMA node, so returning NUMA node zero\n",
            "2023-03-13 23:41:04.019775: I tensorflow/compiler/xla/stream_executor/cuda/cuda_gpu_executor.cc:981] successful NUMA node read from SysFS had negative value (-1), but there must be at least one NUMA node, so returning NUMA node zero\n",
            "2023-03-13 23:41:04.020133: I tensorflow/compiler/xla/stream_executor/cuda/cuda_gpu_executor.cc:981] successful NUMA node read from SysFS had negative value (-1), but there must be at least one NUMA node, so returning NUMA node zero\n",
            "2023-03-13 23:41:04.020263: I tensorflow/compiler/xla/stream_executor/cuda/cuda_gpu_executor.cc:981] successful NUMA node read from SysFS had negative value (-1), but there must be at least one NUMA node, so returning NUMA node zero\n",
            "2023-03-13 23:41:04.020542: I tensorflow/core/common_runtime/gpu/gpu_device.cc:1613] Created device /job:localhost/replica:0/task:0/device:GPU:0 with 5590 MB memory:  -> device: 0, name: NVIDIA GeForce RTX 3070, pci bus id: 0000:07:00.0, compute capability: 8.6\n"
          ]
        }
      ],
      "source": [
        "# Use the `TextVectorization` layer to normalize, split, and map strings to\n",
        "# integers. Set the `output_sequence_length` length to pad all samples to the\n",
        "# same length.\n",
        "vectorize_layer = layers.TextVectorization(\n",
        "    standardize=custom_standardization,\n",
        "    max_tokens=VOCAB_SIZE,\n",
        "    output_mode='int',\n",
        "    output_sequence_length=SEQUENCE_LENGTH)"
      ]
    },
    {
      "cell_type": "code",
      "execution_count": 34,
      "id": "37552ea9",
      "metadata": {},
      "outputs": [
        {
          "data": {
            "text/plain": [
              "11722"
            ]
          },
          "execution_count": 34,
          "metadata": {},
          "output_type": "execute_result"
        }
      ],
      "source": [
        "len(dataset) # Size of the dataset"
      ]
    },
    {
      "attachments": {},
      "cell_type": "markdown",
      "id": "184fd065",
      "metadata": {},
      "source": [
        "# MAKE A PYTHON SCRIPT ON THIS"
      ]
    },
    {
      "cell_type": "code",
      "execution_count": 73,
      "id": "2d30c527",
      "metadata": {},
      "outputs": [
        {
          "name": "stdout",
          "output_type": "stream",
          "text": [
            "11722\n"
          ]
        }
      ],
      "source": [
        "# creates indexes of 100 to avoid memory leak\n",
        "list_index = []\n",
        "for index in range(len(dataset)):\n",
        "    if index % 100 == 0:\n",
        "        list_index.append(index)\n",
        "\n",
        "# adds the final index that is not divisible by 100\n",
        "if len(dataset) not in list_index:\n",
        "    list_index.append(len(dataset)) \n",
        "\n",
        "\n",
        "if os.path.isfile(path + \"senses.txt\") == False:\n",
        "    # i being the first index, y being the index after it\n",
        "    for i, y in zip(list_index, list_index[1:]):\n",
        "        file = open(path + \"senses%d.txt\"%y, \"w\")\n",
        "        dataset_senses = \"\"\n",
        "        for full_phrase, senses in zip(dataset.full_phrase[i:y], dataset.senses[i:y]):\n",
        "            dataset_senses +=  full_phrase + \" \" + senses + \" \"\n",
        "            file.write(dataset_senses)\n",
        "        file.close()\n",
        "        del full_phrase, senses  # clears the memory to avoid memory leak\n",
        "        \n",
        "else:\n",
        "    print(\"[senses.txt has already been created]\")"
      ]
    }
  ],
  "metadata": {
    "colab": {
      "provenance": []
    },
    "kernelspec": {
      "display_name": "base",
      "language": "python",
      "name": "python3"
    },
    "language_info": {
      "codemirror_mode": {
        "name": "ipython",
        "version": 3
      },
      "file_extension": ".py",
      "mimetype": "text/x-python",
      "name": "python",
      "nbconvert_exporter": "python",
      "pygments_lexer": "ipython3",
      "version": "3.9.13"
    },
    "vscode": {
      "interpreter": {
        "hash": "dad450a28c894495c754ffb1489f7750013982b9a26900c90ef19258e6c32c78"
      }
    }
  },
  "nbformat": 4,
  "nbformat_minor": 5
}
